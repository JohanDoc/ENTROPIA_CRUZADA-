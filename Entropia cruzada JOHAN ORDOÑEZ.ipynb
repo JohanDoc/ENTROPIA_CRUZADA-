{
 "cells": [
  {
   "cell_type": "code",
   "execution_count": 2,
   "id": "05a7e070",
   "metadata": {},
   "outputs": [
    {
     "name": "stdout",
     "output_type": "stream",
     "text": [
      "Introduzca la cantidad de datos: 3\n",
      "3\n",
      "\n",
      "Vector de etiquetas aleatorias:  [0 0 0]\n",
      "\n",
      "Vector de probabilidades aleatorias:  [[0.68788549]\n",
      " [0.57893507]\n",
      " [0.46935143]]\n",
      "\n",
      "Entropia Cruzada Encontrada:  7.989026091518258\n"
     ]
    }
   ],
   "source": [
    "import matplotlib.pyplot as plt\n",
    "import numpy as np\n",
    "import pandas as pd\n",
    "\n",
    "#Funcion  para realizar la ecuacion de Entropia cruzada\n",
    "def entropiacruzada(etiquetas, Probalididades):    \n",
    "    return -np.sum(etiquetas * np.log(Probalididades) + (1 - etiquetas) * np.log(1 - Probalididades))\n",
    "\n",
    "n=int(input('Introduzca la cantidad de datos: '))\n",
    "print(n)\n",
    "                                                       \n",
    "#etiquetas\n",
    "etiquetas= np.random.randint(0,2,n)\n",
    "etiquetas1 = np.array(etiquetas)\n",
    "print(\"\")\n",
    "print('Vector de etiquetas aleatorias: ',etiquetas1)\n",
    "#probabilidades\n",
    "Probalididades=np.random.rand(n,1)\n",
    "Probalididades1=np.array(Probalididades)\n",
    "print(\"\")\n",
    "print('Vector de probabilidades aleatorias: ',Probalididades1)\n",
    "\n",
    "print(\"\")\n",
    "print('Entropia Cruzada Encontrada: ',entropiacruzada(etiquetas1,Probalididades1))"
   ]
  },
  {
   "cell_type": "code",
   "execution_count": null,
   "id": "209759a4",
   "metadata": {},
   "outputs": [],
   "source": []
  }
 ],
 "metadata": {
  "kernelspec": {
   "display_name": "Python 3 (ipykernel)",
   "language": "python",
   "name": "python3"
  },
  "language_info": {
   "codemirror_mode": {
    "name": "ipython",
    "version": 3
   },
   "file_extension": ".py",
   "mimetype": "text/x-python",
   "name": "python",
   "nbconvert_exporter": "python",
   "pygments_lexer": "ipython3",
   "version": "3.9.13"
  }
 },
 "nbformat": 4,
 "nbformat_minor": 5
}
